{
 "cells": [
  {
   "cell_type": "markdown",
   "id": "271a2eb6-06a2-482b-93d8-6a4ccc4e3fc7",
   "metadata": {},
   "source": [
    "# Titanic - Part 2: Data Visualization and Analysis"
   ]
  },
  {
   "cell_type": "markdown",
   "id": "e32afda8-b21e-4b24-8ef6-f779a4b8f93e",
   "metadata": {},
   "source": [
    "## 1. Importing Dataset and Necessary Packages"
   ]
  },
  {
   "cell_type": "code",
   "execution_count": 1,
   "id": "16cd1cb8-e8fb-4d85-a2d8-56b8bb87ce4d",
   "metadata": {},
   "outputs": [],
   "source": [
    "import numpy as np                                  # linear algebra\n",
    "import os                                           # package used to set work directory\n",
    "import pandas as pd                                 # package used to create dataframes\n",
    "import re                                           # regular expressions\n",
    "import matplotlib.pyplot as plt\n",
    "import seaborn as sns                               # statistic data visualizations\n",
    "\n",
    "from operator import itemgetter                     # package used for sorted, max, min "
   ]
  },
  {
   "cell_type": "code",
   "execution_count": 2,
   "id": "fa742c11-1b01-4d1b-835c-0bfc85fa7bd2",
   "metadata": {},
   "outputs": [],
   "source": [
    "data_test = pd.read_csv('preprocessed_testdata.csv')\n",
    "df_test = data_test.copy()\n",
    "\n",
    "data_train = pd.read_csv('preprocessed_traindata.csv')\n",
    "df_train = data_train.copy()"
   ]
  },
  {
   "cell_type": "code",
   "execution_count": 3,
   "id": "d95f3091-4836-423f-8852-a33c98cbdbb8",
   "metadata": {},
   "outputs": [
    {
     "name": "stdout",
     "output_type": "stream",
     "text": [
      "<class 'pandas.core.frame.DataFrame'>\n",
      "RangeIndex: 418 entries, 0 to 417\n",
      "Data columns (total 17 columns):\n",
      " #   Column       Non-Null Count  Dtype  \n",
      "---  ------       --------------  -----  \n",
      " 0   PassengerId  418 non-null    int64  \n",
      " 1   Pclass       418 non-null    int64  \n",
      " 2   Name         418 non-null    object \n",
      " 3   Sex          418 non-null    object \n",
      " 4   Age          332 non-null    float64\n",
      " 5   SibSp        418 non-null    int64  \n",
      " 6   Parch        418 non-null    int64  \n",
      " 7   Ticket       418 non-null    object \n",
      " 8   Fare         418 non-null    float64\n",
      " 9   Cabin        418 non-null    object \n",
      " 10  Embarked     418 non-null    object \n",
      " 11  Nationality  418 non-null    object \n",
      " 12  Missing_Age  418 non-null    int64  \n",
      " 13  Deck         418 non-null    object \n",
      " 14  Title        418 non-null    object \n",
      " 15  Surname      418 non-null    object \n",
      " 16  Firstname    418 non-null    object \n",
      "dtypes: float64(2), int64(5), object(10)\n",
      "memory usage: 55.6+ KB\n"
     ]
    }
   ],
   "source": [
    "df_test.info()"
   ]
  },
  {
   "cell_type": "code",
   "execution_count": 4,
   "id": "e28595ed-4193-4d61-870e-57762261a5fb",
   "metadata": {},
   "outputs": [
    {
     "name": "stdout",
     "output_type": "stream",
     "text": [
      "<class 'pandas.core.frame.DataFrame'>\n",
      "RangeIndex: 891 entries, 0 to 890\n",
      "Data columns (total 18 columns):\n",
      " #   Column       Non-Null Count  Dtype  \n",
      "---  ------       --------------  -----  \n",
      " 0   PassengerId  891 non-null    int64  \n",
      " 1   Survived     891 non-null    int64  \n",
      " 2   Pclass       891 non-null    int64  \n",
      " 3   Name         891 non-null    object \n",
      " 4   Sex          891 non-null    object \n",
      " 5   Age          714 non-null    float64\n",
      " 6   SibSp        891 non-null    int64  \n",
      " 7   Parch        891 non-null    int64  \n",
      " 8   Ticket       891 non-null    object \n",
      " 9   Fare         891 non-null    float64\n",
      " 10  Cabin        891 non-null    object \n",
      " 11  Embarked     891 non-null    object \n",
      " 12  Nationality  891 non-null    object \n",
      " 13  Missing_Age  891 non-null    int64  \n",
      " 14  Deck         891 non-null    object \n",
      " 15  Title        891 non-null    object \n",
      " 16  Surname      891 non-null    object \n",
      " 17  Firstname    891 non-null    object \n",
      "dtypes: float64(2), int64(6), object(10)\n",
      "memory usage: 125.4+ KB\n"
     ]
    }
   ],
   "source": [
    "df_train.info()"
   ]
  },
  {
   "cell_type": "markdown",
   "id": "39261658-60e4-419c-a255-4f5d01c3c8c8",
   "metadata": {},
   "source": [
    "## 2. Visualization and Analysis"
   ]
  },
  {
   "cell_type": "markdown",
   "id": "c21bc9bc-64ea-4987-a745-40f3f6c360be",
   "metadata": {},
   "source": [
    "We're interested in predicting the survival of a passenger using their information recorded in various features. Right now, we have no idea what the individual relation between survival and the features look like. Since the number of features is not too big, we can go through them one by one and see how they behave for the two classes (survival or death)."
   ]
  },
  {
   "cell_type": "markdown",
   "id": "9d054488-ed3d-4c25-8a4a-03658dddb58b",
   "metadata": {},
   "source": [
    "We are going to focus on the training set and will treat the test set as unknown data."
   ]
  },
  {
   "cell_type": "code",
   "execution_count": 5,
   "id": "c4007a01-8626-4c51-be45-4b9b47725b9d",
   "metadata": {},
   "outputs": [],
   "source": [
    "df = df_train.copy()"
   ]
  },
  {
   "cell_type": "markdown",
   "id": "29b8cd52-9aed-437f-9ead-bc7bfc17ef0c",
   "metadata": {},
   "source": [
    "### 2.1 The Effect of Age on Survival"
   ]
  },
  {
   "cell_type": "markdown",
   "id": "d83336a8-7556-465b-a041-2533dd565401",
   "metadata": {},
   "source": [
    "`Age` is a quantitative variable. We will use a density plot to see how age relates to survival."
   ]
  },
  {
   "cell_type": "code",
   "execution_count": 6,
   "id": "8a1596dc-f5eb-48ff-8d6f-bc7117bccb9b",
   "metadata": {},
   "outputs": [
    {
     "data": {
      "image/png": "[encoded data removed]",
      "text/plain": [
       "<Figure size 432x288 with 1 Axes>"
      ]
     },
     "metadata": {},
     "output_type": "display_data"
    }
   ],
   "source": [
    "sns.kdeplot(df['Age'].iloc[np.where(df['Survived'] == 0)], fill=True, alpha=0.5, label='Died')\n",
    "sns.kdeplot(df['Age'].iloc[np.where(df['Survived'] == 1)], fill=True, alpha=0.5, label='Survived')\n",
    "plt.legend()\n",
    "plt.title('Density plot of ' + r'$\\mathtt{Age}$' + ' with respect to survival')\n",
    "plt.show()"
   ]
  },
  {
   "cell_type": "markdown",
   "id": "72c024fa-5848-4b98-a043-f37901595aed",
   "metadata": {},
   "source": [
    "Notice that the people that survived tend to be a little older, but infants actually had better odds at survival."
   ]
  },
  {
   "cell_type": "markdown",
   "id": "235b913b-d90c-4825-b884-d96181c31ee8",
   "metadata": {},
   "source": [
    "### 2.2 The Effect of Sex on Survival"
   ]
  },
  {
   "cell_type": "markdown",
   "id": "84f65d39-b5e3-4f2b-baed-1a2422e38fa9",
   "metadata": {},
   "source": [
    "If you have watched the movie *Titanic*, you might remember that they let the women off the ship first. This commonly is the case in disasters. We're interested to see how this impacts survival rates between the two sexes."
   ]
  },
  {
   "cell_type": "code",
   "execution_count": 7,
   "id": "85feed31-2970-4a4d-9c55-39afbf6c6796",
   "metadata": {},
   "outputs": [
    {
     "data": {
      "image/png": "[encoded data removed]",
      "text/plain": [
       "<Figure size 648x648 with 2 Axes>"
      ]
     },
     "metadata": {},
     "output_type": "display_data"
    }
   ],
   "source": [
    "pie_overall = [\n",
    "    np.mean(df['Sex'] == 'female'),\n",
    "    np.mean(df['Sex'] == 'male')\n",
    "]\n",
    "\n",
    "pie_female = [\n",
    "    sum((df['Sex'] == 'female') & (df['Survived'] == 0)),\n",
    "    sum((df['Sex'] == 'female') & (df['Survived'] == 1))\n",
    "]\n",
    "\n",
    "pie_male = [\n",
    "    sum((df['Sex'] == 'male') & (df['Survived'] == 0)),\n",
    "    sum((df['Sex'] == 'male') & (df['Survived'] == 1))\n",
    "]\n",
    "\n",
    "fig, ax = plt.subplots(1, 2, figsize=(9, 9))\n",
    "\n",
    "ax[0].pie(\n",
    "    pie_female, labels=['Died', 'Survived'],\n",
    "    autopct=lambda pct: f'{pct:1.0f}%\\n({pct * pie_overall[0] * df.shape[0] / 100:,.0f})',\n",
    "    colors=['#f678a7', '#e64072']\n",
    ")\n",
    "ax[0].set_title(f'Survival rate for women\\nTotal: {pie_overall[0] * df.shape[0]:,.0f}')\n",
    "\n",
    "ax[1].pie(\n",
    "    pie_male, labels=['Died', 'Survived'],\n",
    "    autopct=lambda pct: f'{pct:1.0f}%\\n({pct * pie_overall[1] * df.shape[0] / 100:,.0f})',\n",
    "    colors=['#add2e4', '#62aec5']\n",
    ")\n",
    "ax[1].set_title(f'Survival rate for men\\nTotal: {pie_overall[1] * df.shape[0]:,.0f}')\n",
    "\n",
    "plt.show()\n"
   ]
  },
  {
   "cell_type": "markdown",
   "id": "15ccf12e-c56a-455d-975e-e0d9e4596f5d",
   "metadata": {},
   "source": [
    "As can be seen in the pie charts above, the majority of women survived whereas the majority of men died. This will be an important feature in our predictions."
   ]
  },
  {
   "cell_type": "markdown",
   "id": "ce294e4c-bbee-4dca-8ad3-f09a535bdec6",
   "metadata": {},
   "source": [
    "### 2.3 The Effect of Class and Fares on Survival"
   ]
  },
  {
   "cell_type": "markdown",
   "id": "6953f6db-8c8a-42ca-9358-ca74df36b768",
   "metadata": {},
   "source": [
    "Wealth usually comes with many privileges. We are interested in the effect of wealth and status on the survival rate."
   ]
  },
  {
   "cell_type": "code",
   "execution_count": 8,
   "id": "0af74047-a466-43d4-b8b7-ae1afed37712",
   "metadata": {},
   "outputs": [
    {
     "data": {
      "image/png": "[encoded data removed]",
      "text/plain": [
       "<Figure size 1008x1008 with 3 Axes>"
      ]
     },
     "metadata": {},
     "output_type": "display_data"
    }
   ],
   "source": [
    "pie_overall = [sum(df['Pclass'] == i) for i in [1, 2, 3]]\n",
    "pie_1st = sum((df['Pclass'] == 1) & (df['Survived'] == 1)) / sum(df['Pclass'] == 1)\n",
    "pie_1st = [1 - pie_1st, pie_1st]\n",
    "pie_2nd = sum((df['Pclass'] == 2) & (df['Survived'] == 1)) / sum(df['Pclass'] == 2)\n",
    "pie_2nd = [1 - pie_2nd, pie_2nd]\n",
    "pie_3rd = sum((df['Pclass'] == 3) & (df['Survived'] == 1)) / sum(df['Pclass'] == 3)\n",
    "pie_3rd = [1 - pie_3rd, pie_3rd]\n",
    "\n",
    "fig, ax = plt.subplots(1, 3, figsize=(14,14))\n",
    "\n",
    "ax[0].pie(pie_1st, labels=['Died', 'Survived'], \n",
    "          autopct=lambda pct: f'{pct:1.0f}%\\n({pct*pie_overall[0]/100:,.0f})', colors=['#F3C623', '#EB8317'])\n",
    "ax[0].set_title(f'1st class\\nTotal:{sum(df['Pclass'] == 1):,}')\n",
    "\n",
    "ax[1].pie(pie_2nd, labels=['Died', 'Survived'], \n",
    "          autopct=lambda pct: f'{pct:1.0f}%\\n({pct*pie_overall[1]/100:,.0f})', colors=['#7E99A3', '#4C585B'])\n",
    "ax[1].set_title(f'2nd class\\nTotal:{sum(df['Pclass'] == 2):,}')\n",
    "\n",
    "ax[2].pie(pie_3rd, labels=['Died', 'Survived'], \n",
    "          autopct=lambda pct: f'{pct:1.0f}%\\n({pct*pie_overall[2]/100:,.0f})', colors=['#F0BB78', '#543A14'])\n",
    "ax[2].set_title(f'3rd class\\nTotal:{sum(df['Pclass'] == 3):,}')\n",
    "\n",
    "plt.show()"
   ]
  },
  {
   "cell_type": "markdown",
   "id": "be4d279d-12ec-45e9-90af-3a04cdc5686d",
   "metadata": {},
   "source": [
    "From these pie charts we can make the inferrence that the higher the class, the better the odds at survival. "
   ]
  },
  {
   "cell_type": "markdown",
   "id": "8c243e1f-9364-4954-9eeb-125afb858247",
   "metadata": {},
   "source": [
    "The price of the tickets may also show us how being able to afford a more expensive ticket could be related to your privileged position. In part 1 of this project, we saw that some passengers would travel together on the same ticket (recall Mrs. Stone and her alleged maid Miss. Icard). When you look at the fares of those tickets, they are all the same for the passengers traveling on the same ticket. We have to check whether we can assume these ticket prices were paid by each individual in the group. Let's look at the three most shared tickets."
   ]
  },
  {
   "cell_type": "code",
   "execution_count": 9,
   "id": "38974c03-b7c8-4787-abef-396556d160d5",
   "metadata": {},
   "outputs": [
    {
     "data": {
      "text/plain": [
       "Ticket\n",
       "347082              7\n",
       "1601                7\n",
       "CA. 2343            7\n",
       "3101295             6\n",
       "CA 2144             6\n",
       "                   ..\n",
       "PC 17590            1\n",
       "17463               1\n",
       "330877              1\n",
       "373450              1\n",
       "STON/O2. 3101282    1\n",
       "Name: count, Length: 681, dtype: int64"
      ]
     },
     "execution_count": 9,
     "metadata": {},
     "output_type": "execute_result"
    }
   ],
   "source": [
    "df['Ticket'].value_counts()"
   ]
  },
  {
   "cell_type": "code",
   "execution_count": 10,
   "id": "58af29a0-1e54-49ff-ad83-40f4b23242cf",
   "metadata": {},
   "outputs": [
    {
     "data": {
      "text/html": [
       "<div>\n",
       "<style scoped>\n",
       "    .dataframe tbody tr th:only-of-type {\n",
       "        vertical-align: middle;\n",
       "    }\n",
       "\n",
       "    .dataframe tbody tr th {\n",
       "        vertical-align: top;\n",
       "    }\n",
       "\n",
       "    .dataframe thead th {\n",
       "        text-align: right;\n",
       "    }\n",
       "</style>\n",
       "<table border=\"1\" class=\"dataframe\">\n",
       "  <thead>\n",
       "    <tr style=\"text-align: right;\">\n",
       "      <th></th>\n",
       "      <th>PassengerId</th>\n",
       "      <th>Survived</th>\n",
       "      <th>Pclass</th>\n",
       "      <th>Name</th>\n",
       "      <th>Sex</th>\n",
       "      <th>Age</th>\n",
       "      <th>SibSp</th>\n",
       "      <th>Parch</th>\n",
       "      <th>Ticket</th>\n",
       "      <th>Fare</th>\n",
       "      <th>Cabin</th>\n",
       "      <th>Embarked</th>\n",
       "      <th>Nationality</th>\n",
       "      <th>Missing_Age</th>\n",
       "      <th>Deck</th>\n",
       "      <th>Title</th>\n",
       "      <th>Surname</th>\n",
       "      <th>Firstname</th>\n",
       "    </tr>\n",
       "  </thead>\n",
       "  <tbody>\n",
       "    <tr>\n",
       "      <th>13</th>\n",
       "      <td>14</td>\n",
       "      <td>0</td>\n",
       "      <td>3</td>\n",
       "      <td>Andersson, Mr. Anders Johan</td>\n",
       "      <td>male</td>\n",
       "      <td>39.0</td>\n",
       "      <td>1</td>\n",
       "      <td>5</td>\n",
       "      <td>347082</td>\n",
       "      <td>31.275</td>\n",
       "      <td>unknown</td>\n",
       "      <td>S</td>\n",
       "      <td>Nordic,Scandinavian,Sweden</td>\n",
       "      <td>0</td>\n",
       "      <td>unknown</td>\n",
       "      <td>Mr.</td>\n",
       "      <td>Andersson</td>\n",
       "      <td>Anders</td>\n",
       "    </tr>\n",
       "    <tr>\n",
       "      <th>119</th>\n",
       "      <td>120</td>\n",
       "      <td>0</td>\n",
       "      <td>3</td>\n",
       "      <td>Andersson, Miss. Ellis Anna Maria</td>\n",
       "      <td>female</td>\n",
       "      <td>2.0</td>\n",
       "      <td>4</td>\n",
       "      <td>2</td>\n",
       "      <td>347082</td>\n",
       "      <td>31.275</td>\n",
       "      <td>unknown</td>\n",
       "      <td>S</td>\n",
       "      <td>Nordic,Scandinavian,Denmark</td>\n",
       "      <td>0</td>\n",
       "      <td>unknown</td>\n",
       "      <td>Miss.</td>\n",
       "      <td>Andersson</td>\n",
       "      <td>Ellis</td>\n",
       "    </tr>\n",
       "    <tr>\n",
       "      <th>541</th>\n",
       "      <td>542</td>\n",
       "      <td>0</td>\n",
       "      <td>3</td>\n",
       "      <td>Andersson, Miss. Ingeborg Constanzia</td>\n",
       "      <td>female</td>\n",
       "      <td>9.0</td>\n",
       "      <td>4</td>\n",
       "      <td>2</td>\n",
       "      <td>347082</td>\n",
       "      <td>31.275</td>\n",
       "      <td>unknown</td>\n",
       "      <td>S</td>\n",
       "      <td>Nordic,Scandinavian,Sweden</td>\n",
       "      <td>0</td>\n",
       "      <td>unknown</td>\n",
       "      <td>Miss.</td>\n",
       "      <td>Andersson</td>\n",
       "      <td>Ingeborg</td>\n",
       "    </tr>\n",
       "    <tr>\n",
       "      <th>542</th>\n",
       "      <td>543</td>\n",
       "      <td>0</td>\n",
       "      <td>3</td>\n",
       "      <td>Andersson, Miss. Sigrid Elisabeth</td>\n",
       "      <td>female</td>\n",
       "      <td>11.0</td>\n",
       "      <td>4</td>\n",
       "      <td>2</td>\n",
       "      <td>347082</td>\n",
       "      <td>31.275</td>\n",
       "      <td>unknown</td>\n",
       "      <td>S</td>\n",
       "      <td>Nordic,Scandinavian,Sweden</td>\n",
       "      <td>0</td>\n",
       "      <td>unknown</td>\n",
       "      <td>Miss.</td>\n",
       "      <td>Andersson</td>\n",
       "      <td>Sigrid</td>\n",
       "    </tr>\n",
       "    <tr>\n",
       "      <th>610</th>\n",
       "      <td>611</td>\n",
       "      <td>0</td>\n",
       "      <td>3</td>\n",
       "      <td>Andersson, Mrs. Anders Johan (Alfrida Konstant...</td>\n",
       "      <td>female</td>\n",
       "      <td>39.0</td>\n",
       "      <td>1</td>\n",
       "      <td>5</td>\n",
       "      <td>347082</td>\n",
       "      <td>31.275</td>\n",
       "      <td>unknown</td>\n",
       "      <td>S</td>\n",
       "      <td>EastAsian,Malay,Indonesia</td>\n",
       "      <td>0</td>\n",
       "      <td>unknown</td>\n",
       "      <td>Mrs.</td>\n",
       "      <td>Brogren</td>\n",
       "      <td>Alfrida</td>\n",
       "    </tr>\n",
       "    <tr>\n",
       "      <th>813</th>\n",
       "      <td>814</td>\n",
       "      <td>0</td>\n",
       "      <td>3</td>\n",
       "      <td>Andersson, Miss. Ebba Iris Alfrida</td>\n",
       "      <td>female</td>\n",
       "      <td>6.0</td>\n",
       "      <td>4</td>\n",
       "      <td>2</td>\n",
       "      <td>347082</td>\n",
       "      <td>31.275</td>\n",
       "      <td>unknown</td>\n",
       "      <td>S</td>\n",
       "      <td>Nordic,Scandinavian,Sweden</td>\n",
       "      <td>0</td>\n",
       "      <td>unknown</td>\n",
       "      <td>Miss.</td>\n",
       "      <td>Andersson</td>\n",
       "      <td>Ebba</td>\n",
       "    </tr>\n",
       "    <tr>\n",
       "      <th>850</th>\n",
       "      <td>851</td>\n",
       "      <td>0</td>\n",
       "      <td>3</td>\n",
       "      <td>Andersson, Master. Sigvard Harald Elias</td>\n",
       "      <td>male</td>\n",
       "      <td>4.0</td>\n",
       "      <td>4</td>\n",
       "      <td>2</td>\n",
       "      <td>347082</td>\n",
       "      <td>31.275</td>\n",
       "      <td>unknown</td>\n",
       "      <td>S</td>\n",
       "      <td>Nordic,Scandinavian,Sweden</td>\n",
       "      <td>0</td>\n",
       "      <td>unknown</td>\n",
       "      <td>Master.</td>\n",
       "      <td>Andersson</td>\n",
       "      <td>Sigvard</td>\n",
       "    </tr>\n",
       "  </tbody>\n",
       "</table>\n",
       "</div>"
      ],
      "text/plain": [
       "     PassengerId  Survived  Pclass  ...    Title    Surname  Firstname\n",
       "13            14         0       3  ...      Mr.  Andersson     Anders\n",
       "119          120         0       3  ...    Miss.  Andersson      Ellis\n",
       "541          542         0       3  ...    Miss.  Andersson   Ingeborg\n",
       "542          543         0       3  ...    Miss.  Andersson     Sigrid\n",
       "610          611         0       3  ...     Mrs.    Brogren    Alfrida\n",
       "813          814         0       3  ...    Miss.  Andersson       Ebba\n",
       "850          851         0       3  ...  Master.  Andersson    Sigvard\n",
       "\n",
       "[7 rows x 18 columns]"
      ]
     },
     "execution_count": 10,
     "metadata": {},
     "output_type": "execute_result"
    }
   ],
   "source": [
    "df[df['Ticket'] == '347082']"
   ]
  },
  {
   "cell_type": "code",
   "execution_count": 11,
   "id": "6c60a4ad-8701-49f7-bee0-ed70a92ee073",
   "metadata": {},
   "outputs": [
    {
     "data": {
      "text/html": [
       "<div>\n",
       "<style scoped>\n",
       "    .dataframe tbody tr th:only-of-type {\n",
       "        vertical-align: middle;\n",
       "    }\n",
       "\n",
       "    .dataframe tbody tr th {\n",
       "        vertical-align: top;\n",
       "    }\n",
       "\n",
       "    .dataframe thead th {\n",
       "        text-align: right;\n",
       "    }\n",
       "</style>\n",
       "<table border=\"1\" class=\"dataframe\">\n",
       "  <thead>\n",
       "    <tr style=\"text-align: right;\">\n",
       "      <th></th>\n",
       "      <th>PassengerId</th>\n",
       "      <th>Survived</th>\n",
       "      <th>Pclass</th>\n",
       "      <th>Name</th>\n",
       "      <th>Sex</th>\n",
       "      <th>Age</th>\n",
       "      <th>SibSp</th>\n",
       "      <th>Parch</th>\n",
       "      <th>Ticket</th>\n",
       "      <th>Fare</th>\n",
       "      <th>Cabin</th>\n",
       "      <th>Embarked</th>\n",
       "      <th>Nationality</th>\n",
       "      <th>Missing_Age</th>\n",
       "      <th>Deck</th>\n",
       "      <th>Title</th>\n",
       "      <th>Surname</th>\n",
       "      <th>Firstname</th>\n",
       "    </tr>\n",
       "  </thead>\n",
       "  <tbody>\n",
       "    <tr>\n",
       "      <th>159</th>\n",
       "      <td>160</td>\n",
       "      <td>0</td>\n",
       "      <td>3</td>\n",
       "      <td>Sage, Master. Thomas Henry</td>\n",
       "      <td>male</td>\n",
       "      <td>NaN</td>\n",
       "      <td>8</td>\n",
       "      <td>2</td>\n",
       "      <td>CA. 2343</td>\n",
       "      <td>69.55</td>\n",
       "      <td>unknown</td>\n",
       "      <td>S</td>\n",
       "      <td>CelticEnglish</td>\n",
       "      <td>1</td>\n",
       "      <td>unknown</td>\n",
       "      <td>Master.</td>\n",
       "      <td>Sage</td>\n",
       "      <td>Thomas</td>\n",
       "    </tr>\n",
       "    <tr>\n",
       "      <th>180</th>\n",
       "      <td>181</td>\n",
       "      <td>0</td>\n",
       "      <td>3</td>\n",
       "      <td>Sage, Miss. Constance Gladys</td>\n",
       "      <td>female</td>\n",
       "      <td>NaN</td>\n",
       "      <td>8</td>\n",
       "      <td>2</td>\n",
       "      <td>CA. 2343</td>\n",
       "      <td>69.55</td>\n",
       "      <td>unknown</td>\n",
       "      <td>S</td>\n",
       "      <td>CelticEnglish</td>\n",
       "      <td>1</td>\n",
       "      <td>unknown</td>\n",
       "      <td>Miss.</td>\n",
       "      <td>Sage</td>\n",
       "      <td>Constance</td>\n",
       "    </tr>\n",
       "    <tr>\n",
       "      <th>201</th>\n",
       "      <td>202</td>\n",
       "      <td>0</td>\n",
       "      <td>3</td>\n",
       "      <td>Sage, Mr. Frederick</td>\n",
       "      <td>male</td>\n",
       "      <td>NaN</td>\n",
       "      <td>8</td>\n",
       "      <td>2</td>\n",
       "      <td>CA. 2343</td>\n",
       "      <td>69.55</td>\n",
       "      <td>unknown</td>\n",
       "      <td>S</td>\n",
       "      <td>CelticEnglish</td>\n",
       "      <td>1</td>\n",
       "      <td>unknown</td>\n",
       "      <td>Mr.</td>\n",
       "      <td>Sage</td>\n",
       "      <td>Frederick</td>\n",
       "    </tr>\n",
       "    <tr>\n",
       "      <th>324</th>\n",
       "      <td>325</td>\n",
       "      <td>0</td>\n",
       "      <td>3</td>\n",
       "      <td>Sage, Mr. George John Jr</td>\n",
       "      <td>male</td>\n",
       "      <td>NaN</td>\n",
       "      <td>8</td>\n",
       "      <td>2</td>\n",
       "      <td>CA. 2343</td>\n",
       "      <td>69.55</td>\n",
       "      <td>unknown</td>\n",
       "      <td>S</td>\n",
       "      <td>CelticEnglish</td>\n",
       "      <td>1</td>\n",
       "      <td>unknown</td>\n",
       "      <td>Mr.</td>\n",
       "      <td>Sage</td>\n",
       "      <td>George</td>\n",
       "    </tr>\n",
       "    <tr>\n",
       "      <th>792</th>\n",
       "      <td>793</td>\n",
       "      <td>0</td>\n",
       "      <td>3</td>\n",
       "      <td>Sage, Miss. Stella Anna</td>\n",
       "      <td>female</td>\n",
       "      <td>NaN</td>\n",
       "      <td>8</td>\n",
       "      <td>2</td>\n",
       "      <td>CA. 2343</td>\n",
       "      <td>69.55</td>\n",
       "      <td>unknown</td>\n",
       "      <td>S</td>\n",
       "      <td>CelticEnglish</td>\n",
       "      <td>1</td>\n",
       "      <td>unknown</td>\n",
       "      <td>Miss.</td>\n",
       "      <td>Sage</td>\n",
       "      <td>Stella</td>\n",
       "    </tr>\n",
       "    <tr>\n",
       "      <th>846</th>\n",
       "      <td>847</td>\n",
       "      <td>0</td>\n",
       "      <td>3</td>\n",
       "      <td>Sage, Mr. Douglas Bullen</td>\n",
       "      <td>male</td>\n",
       "      <td>NaN</td>\n",
       "      <td>8</td>\n",
       "      <td>2</td>\n",
       "      <td>CA. 2343</td>\n",
       "      <td>69.55</td>\n",
       "      <td>unknown</td>\n",
       "      <td>S</td>\n",
       "      <td>CelticEnglish</td>\n",
       "      <td>1</td>\n",
       "      <td>unknown</td>\n",
       "      <td>Mr.</td>\n",
       "      <td>Sage</td>\n",
       "      <td>Douglas</td>\n",
       "    </tr>\n",
       "    <tr>\n",
       "      <th>863</th>\n",
       "      <td>864</td>\n",
       "      <td>0</td>\n",
       "      <td>3</td>\n",
       "      <td>Sage, Miss. Dorothy Edith \"Dolly\"</td>\n",
       "      <td>female</td>\n",
       "      <td>NaN</td>\n",
       "      <td>8</td>\n",
       "      <td>2</td>\n",
       "      <td>CA. 2343</td>\n",
       "      <td>69.55</td>\n",
       "      <td>unknown</td>\n",
       "      <td>S</td>\n",
       "      <td>CelticEnglish</td>\n",
       "      <td>1</td>\n",
       "      <td>unknown</td>\n",
       "      <td>Miss.</td>\n",
       "      <td>Sage</td>\n",
       "      <td>Dorothy</td>\n",
       "    </tr>\n",
       "  </tbody>\n",
       "</table>\n",
       "</div>"
      ],
      "text/plain": [
       "     PassengerId  Survived  Pclass  ...    Title Surname  Firstname\n",
       "159          160         0       3  ...  Master.    Sage     Thomas\n",
       "180          181         0       3  ...    Miss.    Sage  Constance\n",
       "201          202         0       3  ...      Mr.    Sage  Frederick\n",
       "324          325         0       3  ...      Mr.    Sage     George\n",
       "792          793         0       3  ...    Miss.    Sage     Stella\n",
       "846          847         0       3  ...      Mr.    Sage    Douglas\n",
       "863          864         0       3  ...    Miss.    Sage    Dorothy\n",
       "\n",
       "[7 rows x 18 columns]"
      ]
     },
     "execution_count": 11,
     "metadata": {},
     "output_type": "execute_result"
    }
   ],
   "source": [
    "df[df['Ticket'] == 'CA. 2343']"
   ]
  },
  {
   "cell_type": "code",
   "execution_count": 12,
   "id": "d5bc2b7e-716a-4309-a08e-07414baa5880",
   "metadata": {},
   "outputs": [
    {
     "data": {
      "text/html": [
       "<div>\n",
       "<style scoped>\n",
       "    .dataframe tbody tr th:only-of-type {\n",
       "        vertical-align: middle;\n",
       "    }\n",
       "\n",
       "    .dataframe tbody tr th {\n",
       "        vertical-align: top;\n",
       "    }\n",
       "\n",
       "    .dataframe thead th {\n",
       "        text-align: right;\n",
       "    }\n",
       "</style>\n",
       "<table border=\"1\" class=\"dataframe\">\n",
       "  <thead>\n",
       "    <tr style=\"text-align: right;\">\n",
       "      <th></th>\n",
       "      <th>PassengerId</th>\n",
       "      <th>Survived</th>\n",
       "      <th>Pclass</th>\n",
       "      <th>Name</th>\n",
       "      <th>Sex</th>\n",
       "      <th>Age</th>\n",
       "      <th>SibSp</th>\n",
       "      <th>Parch</th>\n",
       "      <th>Ticket</th>\n",
       "      <th>Fare</th>\n",
       "      <th>Cabin</th>\n",
       "      <th>Embarked</th>\n",
       "      <th>Nationality</th>\n",
       "      <th>Missing_Age</th>\n",
       "      <th>Deck</th>\n",
       "      <th>Title</th>\n",
       "      <th>Surname</th>\n",
       "      <th>Firstname</th>\n",
       "    </tr>\n",
       "  </thead>\n",
       "  <tbody>\n",
       "    <tr>\n",
       "      <th>74</th>\n",
       "      <td>75</td>\n",
       "      <td>1</td>\n",
       "      <td>3</td>\n",
       "      <td>Bing, Mr. Lee</td>\n",
       "      <td>male</td>\n",
       "      <td>32.0</td>\n",
       "      <td>0</td>\n",
       "      <td>0</td>\n",
       "      <td>1601</td>\n",
       "      <td>56.4958</td>\n",
       "      <td>unknown</td>\n",
       "      <td>S</td>\n",
       "      <td>CelticEnglish</td>\n",
       "      <td>0</td>\n",
       "      <td>unknown</td>\n",
       "      <td>Mr.</td>\n",
       "      <td>Bing</td>\n",
       "      <td>Lee</td>\n",
       "    </tr>\n",
       "    <tr>\n",
       "      <th>169</th>\n",
       "      <td>170</td>\n",
       "      <td>0</td>\n",
       "      <td>3</td>\n",
       "      <td>Ling, Mr. Lee</td>\n",
       "      <td>male</td>\n",
       "      <td>28.0</td>\n",
       "      <td>0</td>\n",
       "      <td>0</td>\n",
       "      <td>1601</td>\n",
       "      <td>56.4958</td>\n",
       "      <td>unknown</td>\n",
       "      <td>S</td>\n",
       "      <td>EastAsian,Chinese</td>\n",
       "      <td>0</td>\n",
       "      <td>unknown</td>\n",
       "      <td>Mr.</td>\n",
       "      <td>Ling</td>\n",
       "      <td>Lee</td>\n",
       "    </tr>\n",
       "    <tr>\n",
       "      <th>509</th>\n",
       "      <td>510</td>\n",
       "      <td>1</td>\n",
       "      <td>3</td>\n",
       "      <td>Lang, Mr. Fang</td>\n",
       "      <td>male</td>\n",
       "      <td>26.0</td>\n",
       "      <td>0</td>\n",
       "      <td>0</td>\n",
       "      <td>1601</td>\n",
       "      <td>56.4958</td>\n",
       "      <td>unknown</td>\n",
       "      <td>S</td>\n",
       "      <td>European,German</td>\n",
       "      <td>0</td>\n",
       "      <td>unknown</td>\n",
       "      <td>Mr.</td>\n",
       "      <td>Lang</td>\n",
       "      <td>Fang</td>\n",
       "    </tr>\n",
       "    <tr>\n",
       "      <th>643</th>\n",
       "      <td>644</td>\n",
       "      <td>1</td>\n",
       "      <td>3</td>\n",
       "      <td>Foo, Mr. Choong</td>\n",
       "      <td>male</td>\n",
       "      <td>NaN</td>\n",
       "      <td>0</td>\n",
       "      <td>0</td>\n",
       "      <td>1601</td>\n",
       "      <td>56.4958</td>\n",
       "      <td>unknown</td>\n",
       "      <td>S</td>\n",
       "      <td>EastAsian,Chinese</td>\n",
       "      <td>1</td>\n",
       "      <td>unknown</td>\n",
       "      <td>Mr.</td>\n",
       "      <td>Foo</td>\n",
       "      <td>Choong</td>\n",
       "    </tr>\n",
       "    <tr>\n",
       "      <th>692</th>\n",
       "      <td>693</td>\n",
       "      <td>1</td>\n",
       "      <td>3</td>\n",
       "      <td>Lam, Mr. Ali</td>\n",
       "      <td>male</td>\n",
       "      <td>NaN</td>\n",
       "      <td>0</td>\n",
       "      <td>0</td>\n",
       "      <td>1601</td>\n",
       "      <td>56.4958</td>\n",
       "      <td>unknown</td>\n",
       "      <td>S</td>\n",
       "      <td>EastAsian,Chinese</td>\n",
       "      <td>1</td>\n",
       "      <td>unknown</td>\n",
       "      <td>Mr.</td>\n",
       "      <td>Lam</td>\n",
       "      <td>Ali</td>\n",
       "    </tr>\n",
       "    <tr>\n",
       "      <th>826</th>\n",
       "      <td>827</td>\n",
       "      <td>0</td>\n",
       "      <td>3</td>\n",
       "      <td>Lam, Mr. Len</td>\n",
       "      <td>male</td>\n",
       "      <td>NaN</td>\n",
       "      <td>0</td>\n",
       "      <td>0</td>\n",
       "      <td>1601</td>\n",
       "      <td>56.4958</td>\n",
       "      <td>unknown</td>\n",
       "      <td>S</td>\n",
       "      <td>EastAsian,Indochina,Vietnam</td>\n",
       "      <td>1</td>\n",
       "      <td>unknown</td>\n",
       "      <td>Mr.</td>\n",
       "      <td>Lam</td>\n",
       "      <td>Len</td>\n",
       "    </tr>\n",
       "    <tr>\n",
       "      <th>838</th>\n",
       "      <td>839</td>\n",
       "      <td>1</td>\n",
       "      <td>3</td>\n",
       "      <td>Chip, Mr. Chang</td>\n",
       "      <td>male</td>\n",
       "      <td>32.0</td>\n",
       "      <td>0</td>\n",
       "      <td>0</td>\n",
       "      <td>1601</td>\n",
       "      <td>56.4958</td>\n",
       "      <td>unknown</td>\n",
       "      <td>S</td>\n",
       "      <td>EastAsian,Indochina,Vietnam</td>\n",
       "      <td>0</td>\n",
       "      <td>unknown</td>\n",
       "      <td>Mr.</td>\n",
       "      <td>Chip</td>\n",
       "      <td>Chang</td>\n",
       "    </tr>\n",
       "  </tbody>\n",
       "</table>\n",
       "</div>"
      ],
      "text/plain": [
       "     PassengerId  Survived  Pclass  ... Title Surname  Firstname\n",
       "74            75         1       3  ...   Mr.    Bing        Lee\n",
       "169          170         0       3  ...   Mr.    Ling        Lee\n",
       "509          510         1       3  ...   Mr.    Lang       Fang\n",
       "643          644         1       3  ...   Mr.     Foo     Choong\n",
       "692          693         1       3  ...   Mr.     Lam        Ali\n",
       "826          827         0       3  ...   Mr.     Lam        Len\n",
       "838          839         1       3  ...   Mr.    Chip      Chang\n",
       "\n",
       "[7 rows x 18 columns]"
      ]
     },
     "execution_count": 12,
     "metadata": {},
     "output_type": "execute_result"
    }
   ],
   "source": [
    "df[df['Ticket'] == '1601']"
   ]
  },
  {
   "cell_type": "markdown",
   "id": "338abf25-6263-4e9e-a5be-6e34b92fe78e",
   "metadata": {},
   "source": [
    "These three are all groups traveling on the same third class tickets. However, the way it's recorded, it looks like they paid quite a lot for the third class tickets compared to other people of the same class."
   ]
  },
  {
   "cell_type": "code",
   "execution_count": 13,
   "id": "cda06b95-08ba-42f7-9909-754e0c3eca93",
   "metadata": {},
   "outputs": [
    {
     "data": {
      "text/plain": [
       "count    343.000000\n",
       "mean       8.456643\n",
       "std        2.365856\n",
       "min        4.012500\n",
       "25%        7.733300\n",
       "50%        7.895800\n",
       "75%        8.050000\n",
       "max       22.525000\n",
       "Name: Fare, dtype: float64"
      ]
     },
     "execution_count": 13,
     "metadata": {},
     "output_type": "execute_result"
    }
   ],
   "source": [
    "num_shared_tickets = sum(df['Ticket'].value_counts() > 1)\n",
    "shared_tickets = df['Ticket'].value_counts().index[:num_shared_tickets]\n",
    "df['SharedTicket'] = [1 if df.loc[i, 'Ticket'] in shared_tickets else 0 for i in range(df.shape[0])]\n",
    "\n",
    "df.loc[(df['Pclass'] == 3) & (df['SharedTicket'] == 0), 'Fare'].describe()"
   ]
  },
  {
   "cell_type": "markdown",
   "id": "08512391-fbe6-40a1-8dd5-976fbed9fc4f",
   "metadata": {},
   "source": [
    "Most people in the third class that did not share a ticket paid less than 10 pounds for their ticket. Half of all third class passengers paid between 7.7 and 8 pounds for their ticket. The Sage family would fall in this category if their fares were divided by the number of people traveling on the same ticket. Same goes for the group of men traveling together. The Andersson family would pay a little less per person. This could be due to them traveling with very small children which may be cheaper than for the group of adult men traveling together. We will create a new column with the adjusted fares and drop the original `Fare` column."
   ]
  },
  {
   "cell_type": "code",
   "execution_count": 14,
   "id": "718703a6-cd33-41c9-8ae9-12c35e1c4462",
   "metadata": {},
   "outputs": [],
   "source": [
    "df['TicketGroupSize'] = [sum(df['Ticket'] == df.loc[i, 'Ticket']) \n",
    "                               if df.loc[i, 'Ticket'] in shared_tickets else 1 for i in range(df.shape[0])]\n",
    "df['IndividualFare'] = [df.loc[i, 'Fare'] / df.loc[i, 'TicketGroupSize'] for i in range(df.shape[0])]"
   ]
  },
  {
   "cell_type": "code",
   "execution_count": 15,
   "id": "15343aa7-ce5d-4438-85b3-f68b7e47f40e",
   "metadata": {},
   "outputs": [
    {
     "data": {
      "image/png": "[encoded data removed]",
      "text/plain": [
       "<Figure size 432x288 with 1 Axes>"
      ]
     },
     "metadata": {},
     "output_type": "display_data"
    }
   ],
   "source": [
    "sns.kdeplot(df['IndividualFare'].iloc[np.where(df['Survived'] == 0)], fill=True, alpha=0.5, label='Died')\n",
    "sns.kdeplot(df['IndividualFare'].iloc[np.where(df['Survived'] == 1)], fill=True, alpha=0.5, label='Survived')\n",
    "plt.legend()\n",
    "plt.title('Density plot of ' + r'$\\mathtt{IndividualFare}$' + ' with respect to survival')\n",
    "plt.show()"
   ]
  },
  {
   "cell_type": "markdown",
   "id": "78764530-4869-4aaa-bbd3-eb2d9179e953",
   "metadata": {},
   "source": [
    "The conclusion of this density plot would be: less expensive tickets come with lower survival rates. We noticed that traveling with lower class tickets comes with lower survival rates compared to higher class tickets."
   ]
  },
  {
   "cell_type": "code",
   "execution_count": 16,
   "id": "53d58786-5d91-437f-97d0-7de7ac54e6e2",
   "metadata": {},
   "outputs": [
    {
     "name": "stdout",
     "output_type": "stream",
     "text": [
      "Average fare 1st class: 43.65\n",
      "Average fare 2nd class: 13.32\n",
      "Average fare 3rd class: 8.09\n"
     ]
    }
   ],
   "source": [
    "print(f'Average fare 1st class: {np.mean(df.loc[df['Pclass'] == 1, 'IndividualFare']):.2f}')\n",
    "print(f'Average fare 2nd class: {np.mean(df.loc[df['Pclass'] == 2, 'IndividualFare']):.2f}')\n",
    "print(f'Average fare 3rd class: {np.mean(df.loc[df['Pclass'] == 3, 'IndividualFare']):.2f}')"
   ]
  },
  {
   "cell_type": "markdown",
   "id": "87304918-abed-4b20-81b7-b06e5c205351",
   "metadata": {},
   "source": [
    "Obviously, higher class tickets cost more. This means that the fare and class are correlated with each other."
   ]
  },
  {
   "cell_type": "markdown",
   "id": "dbe008bc-4039-45d4-8cf0-7d38b7b736a1",
   "metadata": {},
   "source": [
    "### 2.4 The Effect of Traveling with Relatives on Survival"
   ]
  },
  {
   "cell_type": "markdown",
   "id": "5c8a612d-4bb2-467c-92f9-fa930da778bb",
   "metadata": {},
   "source": [
    "We have already touched upon people who travel in groups. Some of them are friends or colleagues and some of them are families. There are two columns that recorded the number of relatives one is traveling with. `SibSp` represents the number of siblings or spouses a person is traveling with, and `Parch` the number of parents or children. However, as one might have noticed in the previous section, these numbers do not seem reliable. The members of the Sage family all are said to be traveling with 8 siblings, even the parents. They're also all said to be traveling with two parents or children. That's obviously not correct. The mother and father of this family is not traveling with their parents or with only two children, and they're also not traveling with 8 siblings or spouses. This mistake was made for the Andersson family."
   ]
  },
  {
   "cell_type": "markdown",
   "id": "5b05dfa7-4a80-48f3-8f8a-f448ace21298",
   "metadata": {},
   "source": [
    "First, we will check whether all relatives shared their tickets."
   ]
  },
  {
   "cell_type": "code",
   "execution_count": 17,
   "id": "ceb3eaa5-5273-4300-8995-c5b88581c831",
   "metadata": {},
   "outputs": [
    {
     "name": "stdout",
     "output_type": "stream",
     "text": [
      "Number of passengers that traveled with at least one relative: 354\n",
      "Number of passengers that shared their tickets with relatives: 269\n"
     ]
    }
   ],
   "source": [
    "print('Number of passengers that traveled with at least one relative:', sum(df['SibSp'] + df['Parch'] > 0))\n",
    "print('Number of passengers that shared their tickets with relatives:', \n",
    "      sum([df.loc[i, 'SharedTicket'] for i in range(df.shape[0]) \n",
    "           if df.loc[i, 'SibSp'] + df.loc[i, 'Parch'] > 0]))"
   ]
  },
  {
   "cell_type": "markdown",
   "id": "75223c6a-b9af-42c7-838a-f2268d3a6d7c",
   "metadata": {},
   "source": [
    "This tells us that not all relatives shared their tickets with each other."
   ]
  },
  {
   "cell_type": "markdown",
   "id": "0f41d364-c4fb-4458-b986-5f923cdb8d67",
   "metadata": {},
   "source": [
    "Did traveling with relatives positively influence your odds at survival?"
   ]
  },
  {
   "cell_type": "code",
   "execution_count": 18,
   "id": "f602ff30-47fe-4e0f-8a37-02c8eded4a71",
   "metadata": {},
   "outputs": [
    {
     "name": "stdout",
     "output_type": "stream",
     "text": [
      "Survival rate traveling with 0 siblings/spouses: 34.54% (from 608)\n",
      "Survival rate traveling with 1 siblings/spouses: 53.59% (from 209)\n",
      "Survival rate traveling with 2 siblings/spouses: 46.43% (from 28)\n",
      "Survival rate traveling with 3 siblings/spouses: 25.00% (from 16)\n",
      "Survival rate traveling with 4 siblings/spouses: 16.67% (from 18)\n",
      "Survival rate traveling with 5 siblings/spouses: 0.00% (from 5)\n",
      "Survival rate traveling with 8 siblings/spouses: 0.00% (from 7)\n"
     ]
    }
   ],
   "source": [
    "for sibsp in set(df['SibSp']):\n",
    "    print(f'Survival rate traveling with {sibsp} siblings/spouses: {100*sum((df['SibSp'] == sibsp) & (df['Survived'] == 1)) / sum(df['SibSp'] == sibsp):.2f}% (from {sum(df['SibSp'] == sibsp)})')"
   ]
  },
  {
   "cell_type": "code",
   "execution_count": 19,
   "id": "fdde3670-b63e-4f0c-964d-c8f528915918",
   "metadata": {},
   "outputs": [
    {
     "name": "stdout",
     "output_type": "stream",
     "text": [
      "Survival rate traveling with 0 parents/children: 34.37% (from 678)\n",
      "Survival rate traveling with 1 parents/children: 55.08% (from 118)\n",
      "Survival rate traveling with 2 parents/children: 50.00% (from 80)\n",
      "Survival rate traveling with 3 parents/children: 60.00% (from 5)\n",
      "Survival rate traveling with 4 parents/children: 0.00% (from 4)\n",
      "Survival rate traveling with 5 parents/children: 20.00% (from 5)\n",
      "Survival rate traveling with 6 parents/children: 0.00% (from 1)\n"
     ]
    }
   ],
   "source": [
    "for parch in set(df['Parch']):\n",
    "    print(f'Survival rate traveling with {parch} parents/children: {100*sum((df['Parch'] == parch) & (df['Survived'] == 1)) / sum(df['Parch'] == parch):.2f}% (from {sum(df['Parch'] == parch)})')"
   ]
  },
  {
   "cell_type": "markdown",
   "id": "7dae304f-da8f-4900-95b5-e3fd3b7cc71a",
   "metadata": {},
   "source": [
    "If you're traveling with a spouse or with one or two siblings, you actually seem to have had a better chance at survival than traveling alone. Traveling with parents or with a couple of children also seem to have had a positve effect. However, when the group becomes too big, the odds decline. However, there weren't many families of sizes bigger than 4 or 5 persons, so it's hard to make conclusions that are statistically sound. We can also see how sharing a ticket (regardless of being related) may influence the survival rates."
   ]
  },
  {
   "cell_type": "code",
   "execution_count": 20,
   "id": "84b260a3-6500-4e2e-a3c2-9c7496e08972",
   "metadata": {},
   "outputs": [
    {
     "name": "stdout",
     "output_type": "stream",
     "text": [
      "Survival rate sharing a ticket with 0 other people: 29.80% (from 547)\n",
      "Survival rate sharing a ticket with 1 other people: 57.45% (from 188)\n",
      "Survival rate sharing a ticket with 2 other people: 69.84% (from 63)\n",
      "Survival rate sharing a ticket with 3 other people: 50.00% (from 44)\n",
      "Survival rate sharing a ticket with 4 other people: 0.00% (from 10)\n",
      "Survival rate sharing a ticket with 5 other people: 0.00% (from 18)\n",
      "Survival rate sharing a ticket with 6 other people: 23.81% (from 21)\n"
     ]
    }
   ],
   "source": [
    "for size in set(df['TicketGroupSize']):\n",
    "    print(f'Survival rate sharing a ticket with {size - 1} other people: {100*sum((df['TicketGroupSize'] == size) & (df['Survived'] == 1)) / sum(df['TicketGroupSize'] == size):.2f}% (from {sum(df['TicketGroupSize'] == size)})')"
   ]
  },
  {
   "cell_type": "markdown",
   "id": "f06b44cf-df1a-4cee-95e3-0d8ac7c8dfe2",
   "metadata": {},
   "source": [
    "Traveling with a couple of other people did seem to increase the odds at survival. "
   ]
  },
  {
   "cell_type": "markdown",
   "id": "6980c223-503d-400d-b363-effae5d6bfd6",
   "metadata": {},
   "source": [
    "Is it the exact number of people you're traveling with that increases your odds at survival, or is it merely the fact that you're not alone that increases your odds at survival? The very large groups seem to have been dragged down by all the group/family members. Or maybe it's just one or two families that just unfatefully drowned and bringing the survival rate down. This is why it may be a better idea to pool all these people together in one dummy variable and ignore the very large groups. It seems that traveling with other people significantly increases your odds at survival, regardless of whether they're your relatives or companions. We'll create one column that shows whether someone traveled solo."
   ]
  },
  {
   "cell_type": "code",
   "execution_count": 21,
   "id": "6a1c2ddc-f734-4080-b0ab-92efded2029d",
   "metadata": {},
   "outputs": [],
   "source": [
    "df['Solo'] = [1 if df.loc[i, 'SibSp'] + df.loc[i, 'Parch'] + df.loc[i, 'TicketGroupSize'] == 1 else 0 for i in range(df.shape[0])]"
   ]
  },
  {
   "cell_type": "code",
   "execution_count": 22,
   "id": "8fd95081-941c-4ac3-8a93-48f23b18c9a7",
   "metadata": {},
   "outputs": [
    {
     "data": {
      "image/png": "[encoded data removed]",
      "text/plain": [
       "<Figure size 648x648 with 2 Axes>"
      ]
     },
     "metadata": {},
     "output_type": "display_data"
    }
   ],
   "source": [
    "pie_overall = [np.mean(df['Solo']), 1 - np.mean(df['Solo'])]\n",
    "pie_solo = [sum(df['Solo']*(1 - df['Survived'])), sum(df['Solo']*df['Survived'])]\n",
    "pie_company = [sum((1 - df['Solo'])*(1 - df['Survived'])), sum((1 - df['Solo'])*df['Survived'])]\n",
    "\n",
    "fig, ax = plt.subplots(1, 2, figsize=(9,9))\n",
    "\n",
    "ax[0].pie(pie_solo, labels=['Died', 'Survived'], \n",
    "          autopct=lambda pct: f'{pct:1.0f}%\\n({pct*pie_overall[0]*df.shape[0]/100:,.0f})')\n",
    "ax[0].set_title(f'Solo travelers\\nTotal:{pie_overall[0]*df.shape[0]:,.0f}')\n",
    "\n",
    "ax[1].pie(pie_company, labels=['Died', 'Survived'], \n",
    "          autopct=lambda pct: f'{pct:1.0f}%\\n({pct*pie_overall[1]*df.shape[0]/100:,.0f})')\n",
    "ax[1].set_title(f'Group travelers\\nTotal:{pie_overall[1]*df.shape[0]:,.0f}')\n",
    "\n",
    "plt.show()"
   ]
  },
  {
   "cell_type": "markdown",
   "id": "591a7803-0e02-44a6-97fd-df7f46d4b6e3",
   "metadata": {},
   "source": [
    "Another column that relates to class and wealth is the column that contains the honorrific titles."
   ]
  },
  {
   "cell_type": "code",
   "execution_count": 23,
   "id": "84d43584-b8ca-4408-9c52-5e1901cb2741",
   "metadata": {},
   "outputs": [
    {
     "name": "stdout",
     "output_type": "stream",
     "text": [
      "Survival rate title Jonkheer.: 0.00% (from 1)\n",
      "Survival rate title Lady.: 100.00% (from 1)\n",
      "Survival rate title Sir.: 100.00% (from 1)\n",
      "Survival rate title Countess: 100.00% (from 1)\n",
      "Survival rate title Mrs.: 79.20% (from 125)\n",
      "Survival rate title Miss.: 69.78% (from 182)\n",
      "Survival rate title Major.: 50.00% (from 2)\n",
      "Survival rate title Ms.: 100.00% (from 1)\n",
      "Survival rate title Mme.: 100.00% (from 1)\n",
      "Survival rate title Master.: 57.50% (from 40)\n",
      "Survival rate title Rev.: 0.00% (from 6)\n",
      "Survival rate title Mlle.: 100.00% (from 2)\n",
      "Survival rate title Dr.: 42.86% (from 7)\n",
      "Survival rate title Capt.: 0.00% (from 1)\n",
      "Survival rate title Col.: 50.00% (from 2)\n",
      "Survival rate title Don.: 0.00% (from 1)\n",
      "Survival rate title Mr.: 15.67% (from 517)\n"
     ]
    }
   ],
   "source": [
    "for title in set(df['Title']):\n",
    "    print(f'Survival rate title {title}: {100*sum((df['Title'] == title) & (df['Survived'] == 1)) / sum(df['Title'] == title):.2f}% (from {sum(df['Title'] == title)})')"
   ]
  },
  {
   "cell_type": "code",
   "execution_count": 24,
   "id": "270de0e5-f404-4011-b154-35aa92c179f5",
   "metadata": {},
   "outputs": [
    {
     "name": "stdout",
     "output_type": "stream",
     "text": [
      "Survival rate title Mr.: 15.67% (from 517)\n",
      "Survival rate title Miss.: 69.78% (from 182)\n",
      "Survival rate title Mrs.: 79.20% (from 125)\n",
      "Survival rate title Master.: 57.50% (from 40)\n",
      "Survival rate title Dr.: 42.86% (from 7)\n",
      "Survival rate title Rev.: 0.00% (from 6)\n",
      "Survival rate title Col.: 50.00% (from 2)\n",
      "Survival rate title Mlle.: 100.00% (from 2)\n",
      "Survival rate title Major.: 50.00% (from 2)\n",
      "Survival rate title Ms.: 100.00% (from 1)\n",
      "Survival rate title Mme.: 100.00% (from 1)\n",
      "Survival rate title Don.: 0.00% (from 1)\n",
      "Survival rate title Lady.: 100.00% (from 1)\n",
      "Survival rate title Sir.: 100.00% (from 1)\n",
      "Survival rate title Capt.: 0.00% (from 1)\n",
      "Survival rate title Countess: 100.00% (from 1)\n",
      "Survival rate title Jonkheer.: 0.00% (from 1)\n"
     ]
    }
   ],
   "source": [
    "for title in df['Title'].value_counts().index:\n",
    "    print(f'Survival rate title {title}: {100*sum((df['Title'] == title) & (df['Survived'] == 1)) / sum(df['Title'] == title):.2f}% (from {sum(df['Title'] == title)})')"
   ]
  },
  {
   "cell_type": "markdown",
   "id": "45610fdb-c03a-480a-a206-e9230726f6c0",
   "metadata": {},
   "source": [
    "Only the common titles Mr., Mrs., Miss. and Master. are used by enough people to be included in a statistical model. These titles are directly correlated to sex and age."
   ]
  },
  {
   "cell_type": "markdown",
   "id": "232a4382-e8b6-468f-a27e-98a12727057f",
   "metadata": {},
   "source": [
    "### 4.5 The Effect of Port of Embarkation on Survival"
   ]
  },
  {
   "cell_type": "markdown",
   "id": "4ed6067b-4cb4-4f59-8458-a0ad24b10b05",
   "metadata": {},
   "source": [
    "Passengers embarked the ships from three different ports: Southampton, Cherbourg and Queenstown. "
   ]
  },
  {
   "cell_type": "code",
   "execution_count": 25,
   "id": "9475da26-6c4f-44c2-91c2-e1912b3b92e1",
   "metadata": {},
   "outputs": [
    {
     "data": {
      "image/png": "[encoded data removed]",
      "text/plain": [
       "<Figure size 1008x1008 with 3 Axes>"
      ]
     },
     "metadata": {},
     "output_type": "display_data"
    }
   ],
   "source": [
    "pie_overall = [sum(df['Embarked'] == i) for i in ['S', 'C', 'Q']]\n",
    "pie_S = sum((df['Embarked'] == 'S') & (df['Survived'] == 1)) / sum(df['Embarked'] == 'S')\n",
    "pie_S = [1 - pie_S, pie_S]\n",
    "pie_C = sum((df['Embarked'] == 'C') & (df['Survived'] == 1)) / sum(df['Embarked'] == 'C')\n",
    "pie_C = [1 - pie_C, pie_C]\n",
    "pie_Q = sum((df['Embarked'] == 'Q') & (df['Survived'] == 1)) / sum(df['Embarked'] == 'Q')\n",
    "pie_Q = [1 - pie_Q, pie_Q]\n",
    "\n",
    "fig, ax = plt.subplots(1, 3, figsize=(14,14))\n",
    "\n",
    "ax[0].pie(pie_S, labels=['Died', 'Survived'], \n",
    "          autopct=lambda pct: f'{pct:1.0f}%\\n({pct*pie_overall[0]/100:,.0f})')\n",
    "ax[0].set_title(f'Southampton\\nTotal:{sum(df['Embarked'] == 'S'):,}')\n",
    "\n",
    "ax[1].pie(pie_C, labels=['Died', 'Survived'], \n",
    "          autopct=lambda pct: f'{pct:1.0f}%\\n({pct*pie_overall[1]/100:,.0f})')\n",
    "ax[1].set_title(f'Cherbourg\\nTotal:{sum(df['Embarked'] == 'C'):,}')\n",
    "\n",
    "ax[2].pie(pie_Q, labels=['Died', 'Survived'], \n",
    "          autopct=lambda pct: f'{pct:1.0f}%\\n({pct*pie_overall[2]/100:,.0f})')\n",
    "ax[2].set_title(f'Queenstown\\nTotal:{sum(df['Embarked'] == 'Q'):,}')\n",
    "\n",
    "plt.show()"
   ]
  },
  {
   "cell_type": "markdown",
   "id": "86fecfb0-918f-4f1d-afd0-17eeb3e76d81",
   "metadata": {},
   "source": [
    "Passengers who embarked from Cherbourg had a significantly higher survival rate than passengers who embarked from the other two ports."
   ]
  },
  {
   "cell_type": "code",
   "execution_count": 26,
   "id": "dd743b17-e0f7-4b46-b4e7-56d0363f8727",
   "metadata": {},
   "outputs": [],
   "source": [
    "class_port = pd.DataFrame(np.zeros([3, 3]), index=[1, 2, 3], columns=['S', 'C', 'Q'])\n",
    "\n",
    "for i in [1, 2, 3]:\n",
    "    for port in ['S', 'C', 'Q']:\n",
    "        class_port.loc[i, port] = sum((df['Pclass'] == i) & (df['Embarked'] == port))"
   ]
  },
  {
   "cell_type": "code",
   "execution_count": 27,
   "id": "90139ab3-2f5c-41cb-8753-bd919b3c7439",
   "metadata": {},
   "outputs": [
    {
     "data": {
      "image/png": "[encoded data removed]",
      "text/plain": [
       "<Figure size 1152x144 with 3 Axes>"
      ]
     },
     "metadata": {},
     "output_type": "display_data"
    }
   ],
   "source": [
    "fig, ax = plt.subplots(1, 3, figsize=(16,2), gridspec_kw={'wspace': 0.3})\n",
    "\n",
    "ax[0].barh(['1st class', '2nd class', '3rd class'], class_port['S'])\n",
    "ax[0].set_xlabel('Number of passengers in class')\n",
    "ax[0].set_title(f'Southampton\\nTotal:{sum(df['Embarked'] == 'S'):,}')\n",
    "\n",
    "ax[1].barh(['1st class', '2nd class', '3rd class'], class_port['C'])\n",
    "ax[1].set_xlabel('Number of passengers in class')\n",
    "ax[1].set_title(f'Cherbourg\\nTotal:{sum(df['Embarked'] == 'C'):,}')\n",
    "\n",
    "ax[2].barh(['1st class', '2nd class', '3rd class'], class_port['Q'])\n",
    "ax[2].set_xlabel('Number of passengers in class')\n",
    "ax[2].set_title(f'Queenstown\\nTotal:{sum(df['Embarked'] == 'Q'):,}')\n",
    "\n",
    "plt.show()"
   ]
  },
  {
   "cell_type": "markdown",
   "id": "b614c3d3-52e7-49fe-a03c-457916292d0d",
   "metadata": {},
   "source": [
    "Notice that the group of passengers that embarked from Queenstown consists of almost solely of third class travelers. The largest class that embarked from Cherbourg is the first class. The group embarking from Southampton looks more like what you would expect the distribution over the classes would look like. We already saw that the higher the class, the better the odds at survival, so it makes sense that the group embarking from Cherbourg has a significantly higher survival rate. However, even though the group from Southampton has a lot of first and second class travelers while the group from Queenstown has barely any higher class travelers, the group from Queenstown still has a higher overall survival rate."
   ]
  },
  {
   "cell_type": "code",
   "execution_count": 28,
   "id": "96a30301-409e-4d38-8c7f-ea328e7eca43",
   "metadata": {},
   "outputs": [
    {
     "data": {
      "image/png": "[encoded data removed]",
      "text/plain": [
       "<Figure size 1008x1008 with 3 Axes>"
      ]
     },
     "metadata": {},
     "output_type": "display_data"
    }
   ],
   "source": [
    "pie_overall = [sum(df['Embarked'] == i) for i in ['S', 'C', 'Q']]\n",
    "pie_S = sum((df['Embarked'] == 'S') & (df['Sex'] == 'female')) / sum(df['Embarked'] == 'S')\n",
    "pie_S = [1 - pie_S, pie_S]\n",
    "pie_C = sum((df['Embarked'] == 'C') & (df['Sex'] == 'female')) / sum(df['Embarked'] == 'C')\n",
    "pie_C = [1 - pie_C, pie_C]\n",
    "pie_Q = sum((df['Embarked'] == 'Q') & (df['Sex'] == 'female')) / sum(df['Embarked'] == 'Q')\n",
    "pie_Q = [1 - pie_Q, pie_Q]\n",
    "\n",
    "fig, ax = plt.subplots(1, 3, figsize=(14,14))\n",
    "\n",
    "ax[0].pie(pie_S, labels=['Male', 'Female'], \n",
    "          autopct=lambda pct: f'{pct:1.0f}%\\n({pct*pie_overall[0]/100:,.0f})', colors=['#62aec5', '#e64072'])\n",
    "ax[0].set_title(f'Southampton\\nTotal:{sum(df[\"Embarked\"] == \"S\"):,}')\n",
    "\n",
    "ax[1].pie(pie_C, labels=['Male', 'Female'], \n",
    "          autopct=lambda pct: f'{pct:1.0f}%\\n({pct*pie_overall[1]/100:,.0f})', colors=['#62aec5', '#e64072'])\n",
    "ax[1].set_title(f'Cherbourg\\nTotal:{sum(df[\"Embarked\"] == \"C\"):,}')\n",
    "\n",
    "ax[2].pie(pie_Q, labels=['Male', 'Female'], \n",
    "          autopct=lambda pct: f'{pct:1.0f}%\\n({pct*pie_overall[2]/100:,.0f})', colors=['#62aec5', '#e64072'])\n",
    "ax[2].set_title(f'Queenstown\\nTotal:{sum(df[\"Embarked\"] == \"Q\"):,}')\n",
    "\n",
    "plt.show()"
   ]
  },
  {
   "cell_type": "markdown",
   "id": "9d9836d2-2a0f-441a-9290-d0691e8e707e",
   "metadata": {},
   "source": [
    "There were relatively more men embarking from Southampton than from Queenstown. That may explain why travelers from Queenstown had a higher survival rate as the overall survival rate for women was significantly higher than for men."
   ]
  },
  {
   "cell_type": "markdown",
   "id": "120ac330-b07a-4060-9ec1-f4427f57139a",
   "metadata": {},
   "source": [
    "Not only do we have information on where passengers embarked form, for a handful of passengers, we also know the deck."
   ]
  },
  {
   "cell_type": "code",
   "execution_count": 29,
   "id": "b3f92073-231e-4b73-b3c4-2982d3eaa938",
   "metadata": {},
   "outputs": [
    {
     "name": "stdout",
     "output_type": "stream",
     "text": [
      "Survival rate deck A: 46.67% (from 15)\n",
      "Survival rate deck B: 74.47% (from 47)\n",
      "Survival rate deck C: 59.32% (from 59)\n",
      "Survival rate deck D: 75.76% (from 33)\n",
      "Survival rate deck E: 75.00% (from 32)\n",
      "Survival rate deck F: 61.54% (from 13)\n",
      "Survival rate deck G: 50.00% (from 4)\n",
      "Survival rate deck T: 0.00% (from 1)\n",
      "Survival rate deck unknown: 29.99% (from 687)\n"
     ]
    }
   ],
   "source": [
    "for deck in sorted(set(df['Deck'])):\n",
    "    print(f'Survival rate deck {deck}: {100*sum((df['Deck'] == deck) & (df['Survived'] == 1)) / sum(df['Deck'] == deck):.2f}% (from {sum(df['Deck'] == deck)})')"
   ]
  },
  {
   "cell_type": "markdown",
   "id": "dff99e5f-7ae0-4665-8357-a1283cbe222b",
   "metadata": {},
   "source": [
    "For every known deck, the survival rate is higher than the overall survival rate. "
   ]
  },
  {
   "cell_type": "code",
   "execution_count": 30,
   "id": "229b210d-3498-4bda-8cfb-971a34629aba",
   "metadata": {},
   "outputs": [
    {
     "name": "stdout",
     "output_type": "stream",
     "text": [
      "Survival rate of passengers for whom the deck is known: 66.67%\n"
     ]
    }
   ],
   "source": [
    "print(f'Survival rate of passengers for whom the deck is known: {100*np.mean(df.loc[df['Deck'] != 'unknown', 'Survived']):.2f}%')"
   ]
  },
  {
   "cell_type": "markdown",
   "id": "065e33e8-c8b3-4a2c-ab49-79f78c26a305",
   "metadata": {},
   "source": [
    "The fact that the survival rate of passengers of whom the deck is known is higher than their counterpart is probably due to the survivers being able to tell the cabin numbers in their narrations of the disaster."
   ]
  },
  {
   "cell_type": "markdown",
   "id": "c676f68b-a216-4cd0-8f4c-6ad830067a13",
   "metadata": {},
   "source": [
    "Since the deck is known for only a small share of the passengers, we will only use the fact whether the deck is known or not. We will create a new column for the binary feature `DeckKnown` which tells whether the deck is known since we see significant difference in the survival rate between passengers for whom it's known and the ones for whom it isn't."
   ]
  },
  {
   "cell_type": "code",
   "execution_count": 31,
   "id": "256f2abd-5fb0-491c-8697-5374bc25dc3b",
   "metadata": {},
   "outputs": [],
   "source": [
    "df['DeckKnown'] = [0 if deck == 'unknown' else 1 for deck in df['Deck']]"
   ]
  },
  {
   "cell_type": "markdown",
   "id": "53931f1d-b384-4b3f-824d-400dfa1178c5",
   "metadata": {},
   "source": [
    "### 4.6 The Effect of Nationality on Survival"
   ]
  },
  {
   "cell_type": "markdown",
   "id": "f6249d08-4ef0-46c1-9c5d-999cbf4ebe26",
   "metadata": {},
   "source": [
    "We predicted the ethnic backgrounds of the passengers using their names. We're interested if the ethnic background has any effect on the odds at survival."
   ]
  },
  {
   "cell_type": "code",
   "execution_count": 32,
   "id": "1ceaf3ff-225e-44f3-86af-40efd6b5ddde",
   "metadata": {},
   "outputs": [
    {
     "name": "stdout",
     "output_type": "stream",
     "text": [
      "Survival rate CelticEnglish: 41.78% (from 493)\n",
      "Survival rate European,French: 50.63% (from 79)\n",
      "Survival rate European,German: 38.57% (from 70)\n",
      "Survival rate Nordic,Scandinavian,Sweden: 25.37% (from 67)\n",
      "Survival rate Hispanic,Spanish: 42.50% (from 40)\n",
      "Survival rate Nordic,Finland: 39.13% (from 23)\n",
      "Survival rate Nordic,Scandinavian,Norway: 23.53% (from 17)\n",
      "Survival rate European,SouthSlavs: 6.25% (from 16)\n",
      "Survival rate Hispanic,Portuguese: 37.50% (from 16)\n",
      "Survival rate EastAsian,Malay,Indonesia: 20.00% (from 15)\n",
      "Survival rate Muslim,Nubian: 16.67% (from 12)\n",
      "Survival rate Nordic,Scandinavian,Denmark: 0.00% (from 11)\n",
      "Survival rate European,Italian,Italy: 50.00% (from 8)\n",
      "Survival rate African,EastAfrican: 33.33% (from 3)\n",
      "Survival rate EastAsian,Chinese: 66.67% (from 3)\n",
      "Survival rate Muslim,Persian: 0.00% (from 2)\n",
      "Survival rate Hispanic,Philippines: 0.00% (from 2)\n",
      "Survival rate European,Italian,Romania: 0.00% (from 2)\n",
      "Survival rate Greek: 50.00% (from 2)\n",
      "Survival rate EastAsian,Indochina,Vietnam: 50.00% (from 2)\n",
      "Survival rate SouthAsian: 0.00% (from 2)\n",
      "Survival rate EastAsian,Malay,Malaysia: 0.00% (from 1)\n",
      "Survival rate Muslim,Turkic,Turkey: 0.00% (from 1)\n",
      "Survival rate African,WestAfrican: 0.00% (from 1)\n",
      "Survival rate Muslim,Pakistanis,Bangladesh: 100.00% (from 1)\n",
      "Survival rate European,Russian: 0.00% (from 1)\n",
      "Survival rate EastAsian,South Korea: 0.00% (from 1)\n"
     ]
    }
   ],
   "source": [
    "for nat in df['Nationality'].value_counts().index:\n",
    "    print(f'Survival rate {nat}: {100*sum((df['Nationality'] == nat) & (df['Survived'] == 1)) / sum(df['Nationality'] == nat):.2f}% (from {sum(df['Nationality'] == nat)})')"
   ]
  },
  {
   "cell_type": "markdown",
   "id": "0d6544cb-9ccc-4889-90d2-414f0821e694",
   "metadata": {},
   "source": [
    "The largest group by far is the 'CelticEnglish' group consisting of 493 passengers with a survival rate of about 42 percent. This is slightly higher than the overall survival rate which we computed to be around 38 percent. The second largest group is the French consisting of 79 people with a survival rate of 51 percent. They're followed by 70 Germans with a survival rate of 39 percent. As we can see, someone's nationality can have a significant influence on whether you survive or not. "
   ]
  },
  {
   "cell_type": "code",
   "execution_count": 33,
   "id": "b2192a0d-3484-4454-a2c3-467a5ffd9886",
   "metadata": {},
   "outputs": [
    {
     "data": {
      "image/png": "[encoded data removed]",
      "text/plain": [
       "<Figure size 1152x144 with 3 Axes>"
      ]
     },
     "metadata": {},
     "output_type": "display_data"
    }
   ],
   "source": [
    "class_nat = pd.DataFrame(np.zeros([3, 3]), index=[1, 2, 3], columns=['S', 'C', 'Q'])\n",
    "\n",
    "for i in [1, 2, 3]:\n",
    "    for nat in ['CelticEnglish', 'European,French', 'European,German']:\n",
    "        class_nat.loc[i, nat] = sum((df['Pclass'] == i) & (df['Nationality'] == nat))\n",
    "\n",
    "fig, ax = plt.subplots(1, 3, figsize=(16,2), gridspec_kw={'wspace': 0.3})\n",
    "\n",
    "ax[0].barh(['1st class', '2nd class', '3rd class'], class_nat['CelticEnglish'])\n",
    "ax[0].set_xlabel('Number of passengers in class')\n",
    "ax[0].set_title(f'English\\nTotal:{sum(df['Nationality'] == 'CelticEnglish'):,}')\n",
    "\n",
    "ax[1].barh(['1st class', '2nd class', '3rd class'], class_nat['European,French'])\n",
    "ax[1].set_xlabel('Number of passengers in class')\n",
    "ax[1].set_title(f'French\\nTotal:{sum(df['Nationality'] == 'European,French'):,}')\n",
    "\n",
    "ax[2].barh(['1st class', '2nd class', '3rd class'], class_nat['European,German'])\n",
    "ax[2].set_xlabel('Number of passengers in class')\n",
    "ax[2].set_title(f'German\\nTotal:{sum(df['Nationality'] == 'European,German'):,}')\n",
    "\n",
    "plt.show()"
   ]
  },
  {
   "cell_type": "markdown",
   "id": "dd32017c-39da-449e-9077-803a99bea3c4",
   "metadata": {},
   "source": [
    "The English group has relatively more first and second class travelers compared to the other two groups. The German group has relatively more third class travelers than the French, but the French group has relatively more second class travelers. It's hard to explain the survival rates with these graphs. Maybe sex can give a better explanation."
   ]
  },
  {
   "cell_type": "code",
   "execution_count": 34,
   "id": "9d58142c-4f6d-4cf3-9662-fd3bd18c5ef4",
   "metadata": {},
   "outputs": [
    {
     "data": {
      "image/png": "[encoded data removed]",
      "text/plain": [
       "<Figure size 1008x1008 with 3 Axes>"
      ]
     },
     "metadata": {},
     "output_type": "display_data"
    }
   ],
   "source": [
    "pie_overall = [sum(df['Nationality'] == i) for i in ['CelticEnglish', 'European,French', 'European,German']]\n",
    "pie_S = sum((df['Nationality'] == 'CelticEnglish') & (df['Sex'] == 'female')) / sum(df['Nationality'] == 'CelticEnglish')\n",
    "pie_S = [1 - pie_S, pie_S]\n",
    "pie_C = sum((df['Nationality'] == 'European,French') & (df['Sex'] == 'female')) / sum(df['Nationality'] == 'European,French')\n",
    "pie_C = [1 - pie_C, pie_C]\n",
    "pie_Q = sum((df['Nationality'] == 'European,German') & (df['Sex'] == 'female')) / sum(df['Nationality'] == 'European,German')\n",
    "pie_Q = [1 - pie_Q, pie_Q]\n",
    "\n",
    "fig, ax = plt.subplots(1, 3, figsize=(14,14))\n",
    "\n",
    "ax[0].pie(pie_S, labels=['Male', 'Female'], \n",
    "          autopct=lambda pct: f'{pct:1.0f}%\\n({pct*pie_overall[0]/100:,.0f})', colors=['#62aec5', '#e64072'])\n",
    "ax[0].set_title(f'English\\nTotal:{sum(df[\"Nationality\"] == \"CelticEnglish\"):,}')\n",
    "\n",
    "ax[1].pie(pie_C, labels=['Male', 'Female'], \n",
    "          autopct=lambda pct: f'{pct:1.0f}%\\n({pct*pie_overall[1]/100:,.0f})', colors=['#62aec5', '#e64072'])\n",
    "ax[1].set_title(f'French\\nTotal:{sum(df[\"Nationality\"] == \"European,French\"):,}')\n",
    "\n",
    "ax[2].pie(pie_Q, labels=['Male', 'Female'], \n",
    "          autopct=lambda pct: f'{pct:1.0f}%\\n({pct*pie_overall[2]/100:,.0f})', colors=['#62aec5', '#e64072'])\n",
    "ax[2].set_title(f'German\\nTotal:{sum(df[\"Nationality\"] == \"European,German\"):,}')\n",
    "\n",
    "plt.show()"
   ]
  },
  {
   "cell_type": "markdown",
   "id": "51b6d78b-5f96-45a6-af9c-aa8e01facc5a",
   "metadata": {},
   "source": [
    "The French have an almost 50/50 split between the two sexes, whereas the other two groups are male dominated. Sex seems to directly explain the differences in survival rates."
   ]
  },
  {
   "cell_type": "code",
   "execution_count": 35,
   "id": "cb199cdb-79f2-4ec0-aacf-41ad4aa90758",
   "metadata": {},
   "outputs": [
    {
     "data": {
      "image/png": "[encoded data removed]",
      "text/plain": [
       "<Figure size 576x360 with 1 Axes>"
      ]
     },
     "metadata": {},
     "output_type": "display_data"
    }
   ],
   "source": [
    "GroupSize5Plus = sum(df['Nationality'].value_counts() >= 5)\n",
    "\n",
    "labels = df['Nationality'].value_counts().head(GroupSize5Plus).index.tolist()\n",
    "SurvivalRate = [sum((df['Nationality'] == nat) & (df['Survived'] == 1)) / \n",
    "                sum(df['Nationality'] == nat) for nat in labels]\n",
    "FemaleShare = [sum((df['Nationality'] == nat) & (df['Sex'] == 'female')) / \n",
    "               sum(df['Nationality'] == nat) for nat in labels]\n",
    "\n",
    "fig, ax = plt.subplots(figsize=(8, 5))\n",
    "ax.scatter(FemaleShare, SurvivalRate, color='b')\n",
    "\n",
    "for i in range(len(labels)):\n",
    "    ax.text(FemaleShare[i], SurvivalRate[i], labels[i], fontsize=12, ha='right')\n",
    "\n",
    "ax.set_xlabel(\"Female share\")\n",
    "ax.set_ylabel(\"Survival rate\")\n",
    "ax.set_title(\"Survival rate vs sex with respect to nationality\")\n",
    "\n",
    "plt.show()"
   ]
  },
  {
   "cell_type": "markdown",
   "id": "978bc948-c616-4314-b326-ace076b7da7e",
   "metadata": {},
   "source": [
    "In the scatter plot above, we can see that the effect of the ethnic background is directly related to the female dominance in the group. Also, if you go back in this report where we are printing several rows, you can notice that the predicted nationalities don't seem very reliable. Some people with clearly Germanic names are predicted to be Asian and vice versa. Therefore, we should not include this feature into our model."
   ]
  },
  {
   "cell_type": "markdown",
   "id": "4fd8efb2-ad8b-41f5-b81e-9e6c9898645e",
   "metadata": {},
   "source": [
    "## 3. Reviewing Feature Selection"
   ]
  },
  {
   "cell_type": "markdown",
   "id": "f2016aca-b04b-4ba2-9abb-cd40f219c0e1",
   "metadata": {},
   "source": [
    "We have gone through all the features and created some new one along the way. We have noticed that some columns are not really appropriate to use to model survival due to several reasons."
   ]
  },
  {
   "cell_type": "code",
   "execution_count": 36,
   "id": "f0a1e32f-0a9c-424f-a1ff-99633bba12c3",
   "metadata": {},
   "outputs": [
    {
     "name": "stdout",
     "output_type": "stream",
     "text": [
      "<class 'pandas.core.frame.DataFrame'>\n",
      "RangeIndex: 891 entries, 0 to 890\n",
      "Data columns (total 23 columns):\n",
      " #   Column           Non-Null Count  Dtype  \n",
      "---  ------           --------------  -----  \n",
      " 0   PassengerId      891 non-null    int64  \n",
      " 1   Survived         891 non-null    int64  \n",
      " 2   Pclass           891 non-null    int64  \n",
      " 3   Name             891 non-null    object \n",
      " 4   Sex              891 non-null    object \n",
      " 5   Age              714 non-null    float64\n",
      " 6   SibSp            891 non-null    int64  \n",
      " 7   Parch            891 non-null    int64  \n",
      " 8   Ticket           891 non-null    object \n",
      " 9   Fare             891 non-null    float64\n",
      " 10  Cabin            891 non-null    object \n",
      " 11  Embarked         891 non-null    object \n",
      " 12  Nationality      891 non-null    object \n",
      " 13  Missing_Age      891 non-null    int64  \n",
      " 14  Deck             891 non-null    object \n",
      " 15  Title            891 non-null    object \n",
      " 16  Surname          891 non-null    object \n",
      " 17  Firstname        891 non-null    object \n",
      " 18  SharedTicket     891 non-null    int64  \n",
      " 19  TicketGroupSize  891 non-null    int64  \n",
      " 20  IndividualFare   891 non-null    float64\n",
      " 21  Solo             891 non-null    int64  \n",
      " 22  DeckKnown        891 non-null    int64  \n",
      "dtypes: float64(3), int64(10), object(10)\n",
      "memory usage: 160.2+ KB\n"
     ]
    }
   ],
   "source": [
    "df.info()"
   ]
  },
  {
   "cell_type": "markdown",
   "id": "d263899c-2b83-4cf7-96f8-8c09b68c827b",
   "metadata": {},
   "source": [
    "We won't need the columns containing the names of the passengers anymore. We used them to derive their titles and ethnic/cultural backgrounds. We have also used them to try and match passengers to relatives in the cases their was some information missing. We won't need the names anymore from here on out."
   ]
  },
  {
   "cell_type": "code",
   "execution_count": 37,
   "id": "306fbafc-ecb0-4342-afd9-47f5506847a4",
   "metadata": {},
   "outputs": [],
   "source": [
    "df.drop(columns=['Name', 'Surname', 'Firstname'], inplace=True)"
   ]
  },
  {
   "cell_type": "markdown",
   "id": "3bfdf81f-faab-471d-bf25-def6ddf4b7a9",
   "metadata": {},
   "source": [
    "We noticed some inconsistencies in the columns `SibSp` and `Parch`, so we decided to create the column `Solo` and use that one instead. The column `Solo` was derived from `TicketGroupSize`, `SibSp` and `Parch`. The newly created column is not only based on whether a passenger has relatives on board, but also on whether someone is sharing a ticket with a non-relative as we have seen that companions increase the odds ad survival regardless of them being related. We will drop `SibSp` and `Parch`."
   ]
  },
  {
   "cell_type": "code",
   "execution_count": 38,
   "id": "4ca1b490-328e-4e7b-95b9-3c1deead9384",
   "metadata": {},
   "outputs": [],
   "source": [
    "df.drop(columns=['SibSp', 'Parch'], inplace=True)"
   ]
  },
  {
   "cell_type": "markdown",
   "id": "c8fb5577-d27c-401e-a5cd-1c76dfbdf6bf",
   "metadata": {},
   "source": [
    "From `Ticket`, we derived `SharedTicket` and `TicketGroupSize`. It also assisted in dealing with missing values. Other information could be derived from the prefixes. In part 1 of this project we decided against this as this would be quite tedious work and requires looking up extra context on the web. We will drop this column."
   ]
  },
  {
   "cell_type": "code",
   "execution_count": 39,
   "id": "86f4be19-761a-4c8a-baac-c7b7c4c7e451",
   "metadata": {},
   "outputs": [],
   "source": [
    "df.drop(columns=['Ticket'], inplace=True)"
   ]
  },
  {
   "cell_type": "markdown",
   "id": "69569ca6-44cb-464d-8763-3e2afe6227f7",
   "metadata": {},
   "source": [
    "The column `Fare` does not correctly represent the individual fares which leads to inconsistencies. The column `IndividualFare` was created to replace the original column."
   ]
  },
  {
   "cell_type": "code",
   "execution_count": 40,
   "id": "3e2b169e-393b-447d-a5d7-4af1c68049c0",
   "metadata": {},
   "outputs": [],
   "source": [
    "df.drop(columns=['Fare'], inplace=True)"
   ]
  },
  {
   "cell_type": "markdown",
   "id": "54a9d2cb-f00a-4ffb-a5b9-7d3e43d492ed",
   "metadata": {},
   "source": [
    "We derived `Deck` from `Cabin`. This is known for only a small portion of the dataset. It is not statistically desirable to split this small portion into relatively small groups based on decks. Instead, we will use `DeckKnown` as we have seen that just knowing whether a passenger's cabin was recorded or not has a significant effect on the survival rate on its own."
   ]
  },
  {
   "cell_type": "code",
   "execution_count": 41,
   "id": "ab93c617-0eea-44b6-a65a-9a90a40b2ba5",
   "metadata": {},
   "outputs": [],
   "source": [
    "df.drop(columns=['Cabin', 'Deck'], inplace=True)"
   ]
  },
  {
   "cell_type": "markdown",
   "id": "9b3fdd5d-b10d-4586-a649-9979dff505be",
   "metadata": {},
   "source": [
    "We saw that `Nationality` is directly related to `Sex`. Furthermore, the predicted backgrounds may not be as reliable as desired. This column will be dropped."
   ]
  },
  {
   "cell_type": "code",
   "execution_count": 42,
   "id": "b82a5eea-a275-4b6d-b439-d5df8422b9a4",
   "metadata": {},
   "outputs": [],
   "source": [
    "df.drop(columns=['Nationality'], inplace=True)"
   ]
  },
  {
   "cell_type": "markdown",
   "id": "bbd823d6-e993-48aa-9155-8af11c68c5db",
   "metadata": {},
   "source": [
    "And finally, we will drop `Title` as our analysis showed that this feature doesn't seem to add any information that can't be explained by the other variables. Also, may of the subgroups are rather small and the only groups significantly large are directly related to `Sex`."
   ]
  },
  {
   "cell_type": "code",
   "execution_count": 43,
   "id": "87b013d1-3ae1-460b-bef2-8ba05e2a2637",
   "metadata": {},
   "outputs": [],
   "source": [
    "df.drop(columns='Title', inplace=True)"
   ]
  },
  {
   "cell_type": "code",
   "execution_count": 44,
   "id": "87c2c160-53ce-4ba7-b1d9-129c4c35c0b8",
   "metadata": {},
   "outputs": [],
   "source": [
    "df_train = df.copy()"
   ]
  },
  {
   "cell_type": "markdown",
   "id": "a541b261-2661-4dc6-bf70-3bf59c181790",
   "metadata": {},
   "source": [
    "This leaves us with 12 columns, of which one being the ID column and the other being the target, making that 10 features in the dataframe."
   ]
  },
  {
   "cell_type": "markdown",
   "id": "446d1c16-f578-4d42-b1d5-48c46935c123",
   "metadata": {},
   "source": [
    "## 4. Matching Structures between the Training and Test Set"
   ]
  },
  {
   "cell_type": "markdown",
   "id": "c22306e2-aec8-4efc-a965-0ed90a311943",
   "metadata": {},
   "source": [
    "In the previous sections, we manipulated and dropped some columns. We have to make sure the test set matches the new structure of the training set."
   ]
  },
  {
   "cell_type": "markdown",
   "id": "57f23f85-0d24-42c8-8851-f1d1332f8edf",
   "metadata": {},
   "source": [
    "We have to create `SharedTicket`, `TicketGroupSize` and`Solo`."
   ]
  },
  {
   "cell_type": "code",
   "execution_count": 45,
   "id": "b438a56e-a893-4c46-83ef-5c420c7a43f3",
   "metadata": {},
   "outputs": [],
   "source": [
    "num_shared_tickets = sum(df_test['Ticket'].value_counts() > 1)\n",
    "shared_tickets = df_test['Ticket'].value_counts().index[:num_shared_tickets]\n",
    "df_test['SharedTicket'] = [1 if df_test.loc[i, 'Ticket'] in shared_tickets else 0 for i in range(df_test.shape[0])]\n",
    "df_test['TicketGroupSize'] = [sum(df_test['Ticket'] == df_test.loc[i, 'Ticket']) \n",
    "                               if df_test.loc[i, 'Ticket'] in shared_tickets else 1 for i in range(df_test.shape[0])]\n",
    "df_test['Solo'] = [1 if df_test.loc[i, 'SibSp'] + df_test.loc[i, 'Parch'] + \n",
    "                  df_test.loc[i, 'TicketGroupSize'] == 1 else 0 for i in range(df_test.shape[0])]"
   ]
  },
  {
   "cell_type": "markdown",
   "id": "95fbbf86-81f5-42e8-bf80-0bdb2867ed61",
   "metadata": {},
   "source": [
    "We can now drop `SibSp` and `Parch`."
   ]
  },
  {
   "cell_type": "code",
   "execution_count": 46,
   "id": "00b9feb1-e322-4a28-8ab8-c075c9f19af9",
   "metadata": {},
   "outputs": [],
   "source": [
    "df_test.drop(columns=['SibSp', 'Parch'], inplace=True)"
   ]
  },
  {
   "cell_type": "markdown",
   "id": "1fc5cae6-5882-4d56-9c73-2ec9ceefe9a8",
   "metadata": {},
   "source": [
    "The fares have to be adjusted to individual fares."
   ]
  },
  {
   "cell_type": "code",
   "execution_count": 47,
   "id": "74d6dbee-681d-4a3e-8ead-5f697e3b5507",
   "metadata": {},
   "outputs": [],
   "source": [
    "df_test['IndividualFare'] = [df_test.loc[i, 'Fare'] / df_test.loc[i, 'TicketGroupSize'] \n",
    "                                 for i in range(df_test.shape[0])]\n",
    "df_test.drop(columns=['Fare', 'TicketGroupSize'], inplace=True)"
   ]
  },
  {
   "cell_type": "markdown",
   "id": "7bc47bdd-0d41-488d-b430-6def854b7dfb",
   "metadata": {},
   "source": [
    "`Fare` will be dropped form the dataset."
   ]
  },
  {
   "cell_type": "markdown",
   "id": "f1bc92a7-0adb-4927-ae86-e7af1d2cd758",
   "metadata": {},
   "source": [
    "We also need to create `DeckKnown`."
   ]
  },
  {
   "cell_type": "code",
   "execution_count": 48,
   "id": "c0727fb4-b7d8-4592-a3fc-1dd3553d4f48",
   "metadata": {},
   "outputs": [],
   "source": [
    "df_test['DeckKnown'] = 0\n",
    "df_test.loc[df_test['Cabin'] != 'unknown', 'DeckKnown'] = 1"
   ]
  },
  {
   "cell_type": "markdown",
   "id": "25626697-f3aa-473b-b625-f5888b7109c0",
   "metadata": {},
   "source": [
    "The columns `Deck` and `Cabin` are dropped."
   ]
  },
  {
   "cell_type": "code",
   "execution_count": 49,
   "id": "e85a069c-d557-454d-ba9f-534352e24eb4",
   "metadata": {},
   "outputs": [],
   "source": [
    "df_test.drop(columns=['Deck', 'Cabin'], inplace=True)"
   ]
  },
  {
   "cell_type": "markdown",
   "id": "7fc62ba0-697c-4ac7-bbfe-78113e26ad7d",
   "metadata": {},
   "source": [
    "All the new features have been created. We can drop the remaining columns that were dropped in the training set as well."
   ]
  },
  {
   "cell_type": "code",
   "execution_count": 50,
   "id": "fa4531ca-6b1b-4c6b-bef0-cedfc5d2abaa",
   "metadata": {},
   "outputs": [],
   "source": [
    "df_test.drop(columns=['Name', 'Surname', 'Firstname', 'Ticket', 'Title'], inplace=True)"
   ]
  },
  {
   "cell_type": "markdown",
   "id": "ad5f190c-80fb-4033-8266-754d52960b3b",
   "metadata": {},
   "source": [
    "## 5. Summary"
   ]
  },
  {
   "cell_type": "markdown",
   "id": "53d803e5-4b43-4b71-a440-474d44902633",
   "metadata": {},
   "source": [
    "The goal of this analysis is to explore the relationship between various passenger attributes and their survival on the Titanic, using the training set. Each feature was examined to determine its potential predictive value. We saw that nfants had higher survival rates, though survivors tended to be slightly older overall. A strong correlation was found between sex and survival. Women had much higher survival rates than men. Higher-class passengers had better survival odds. Ticket prices were adjusted per passenger in group tickets to reflect individual cost more accurately. Traveling with 1–2 relatives or companions increased survival odds, but very large groups had worse outcomes. A new feature, `Solo`, was created to reflect this. Most titles were too rare to be statistically useful. Common titles (Mr., Mrs., Miss., Master) aligned closely with sex and age and were therefore redundant. Passengers from Cherbourg had the highest survival rate, partly due to class and sex distribution. Survival rates were significantly higher for passengers with known cabin/deck info. That is why the binary feature, `DeckKnown`, was introduced. While some ethnic groups showed different survival rates, this was largely due to sex and class differences. Additionally, the predictions were not reliably accurate, so the feature was dropped.\n",
    "\n",
    "Based on the analysis, several original features were dropped due to redundancy, inaccuracy, or weak predictive power. These include:\n",
    "\n",
    "- `Name`, `Surname`, `Firstname` → dropped as they are used only for extracting other information;\n",
    "- `SibSp`, `Parch` → replaced by `Solo`;\n",
    "- `Ticket` → replaced by `SharedTicket` and `TicketGroupSize`;\n",
    "- `Fare` → replaced by `IndividualFare`;\n",
    "- `Cabin`, `Deck` → replaced by `DeckKnown`;\n",
    "- `Nationality` → dropped due to low reliability;\n",
    "- `Title` → redundant with sex and age.\n",
    "\n",
    "The cleaned datasets now contain 10 features."
   ]
  },
  {
   "cell_type": "code",
   "execution_count": 51,
   "id": "347e406e-eb15-4e3a-bffd-8524399ff50b",
   "metadata": {},
   "outputs": [
    {
     "name": "stdout",
     "output_type": "stream",
     "text": [
      "<class 'pandas.core.frame.DataFrame'>\n",
      "RangeIndex: 418 entries, 0 to 417\n",
      "Data columns (total 11 columns):\n",
      " #   Column          Non-Null Count  Dtype  \n",
      "---  ------          --------------  -----  \n",
      " 0   PassengerId     418 non-null    int64  \n",
      " 1   Pclass          418 non-null    int64  \n",
      " 2   Sex             418 non-null    object \n",
      " 3   Age             332 non-null    float64\n",
      " 4   Embarked        418 non-null    object \n",
      " 5   Nationality     418 non-null    object \n",
      " 6   Missing_Age     418 non-null    int64  \n",
      " 7   SharedTicket    418 non-null    int64  \n",
      " 8   Solo            418 non-null    int64  \n",
      " 9   IndividualFare  418 non-null    float64\n",
      " 10  DeckKnown       418 non-null    int64  \n",
      "dtypes: float64(2), int64(6), object(3)\n",
      "memory usage: 36.1+ KB\n"
     ]
    }
   ],
   "source": [
    "df_test.info()"
   ]
  },
  {
   "cell_type": "code",
   "execution_count": 52,
   "id": "0dc8a9e6-a7c0-4e02-89a8-af8acc004de8",
   "metadata": {},
   "outputs": [
    {
     "name": "stdout",
     "output_type": "stream",
     "text": [
      "<class 'pandas.core.frame.DataFrame'>\n",
      "RangeIndex: 891 entries, 0 to 890\n",
      "Data columns (total 12 columns):\n",
      " #   Column           Non-Null Count  Dtype  \n",
      "---  ------           --------------  -----  \n",
      " 0   PassengerId      891 non-null    int64  \n",
      " 1   Survived         891 non-null    int64  \n",
      " 2   Pclass           891 non-null    int64  \n",
      " 3   Sex              891 non-null    object \n",
      " 4   Age              714 non-null    float64\n",
      " 5   Embarked         891 non-null    object \n",
      " 6   Missing_Age      891 non-null    int64  \n",
      " 7   SharedTicket     891 non-null    int64  \n",
      " 8   TicketGroupSize  891 non-null    int64  \n",
      " 9   IndividualFare   891 non-null    float64\n",
      " 10  Solo             891 non-null    int64  \n",
      " 11  DeckKnown        891 non-null    int64  \n",
      "dtypes: float64(2), int64(8), object(2)\n",
      "memory usage: 83.7+ KB\n"
     ]
    }
   ],
   "source": [
    "df_train.info()"
   ]
  },
  {
   "cell_type": "markdown",
   "id": "679dc524-a3ba-4513-b16f-b14a5791c11a",
   "metadata": {},
   "source": [
    "We will save these restructured datasets for future use."
   ]
  },
  {
   "cell_type": "code",
   "execution_count": 53,
   "id": "3a6f04ac-c43f-4edc-a64a-08d8708bf652",
   "metadata": {},
   "outputs": [],
   "source": [
    "df_test.to_csv('testdata_after_eda.csv', index=False)\n",
    "df_train.to_csv('traindata_after_eda.csv', index=False)"
   ]
  }
 ],
 "metadata": {
  "kernelspec": {
   "display_name": "Python 3 (Spyder)",
   "language": "python3",
   "name": "python3"
  },
  "language_info": {
   "codemirror_mode": {
    "name": "ipython",
    "version": 3
   },
   "file_extension": ".py",
   "mimetype": "text/x-python",
   "name": "python",
   "nbconvert_exporter": "python",
   "pygments_lexer": "ipython3",
   "version": "3.12.9"
  }
 },
 "nbformat": 4,
 "nbformat_minor": 5
}
